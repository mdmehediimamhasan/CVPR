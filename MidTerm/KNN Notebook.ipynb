{
  "cells": [
    {
      "cell_type": "markdown",
      "metadata": {
        "id": "YFsBPMxWpe39"
      },
      "source": [
        "**Library Import**"
      ]
    },
    {
      "cell_type": "code",
      "execution_count": 1,
      "metadata": {
        "id": "k1rsGsPDflxA"
      },
      "outputs": [],
      "source": [
        "import os\n",
        "import cv2\n",
        "from tqdm import tqdm"
      ]
    },
    {
      "cell_type": "markdown",
      "metadata": {
        "id": "ZUPlqBwMplNq"
      },
      "source": [
        "**mount google drive**"
      ]
    },
    {
      "cell_type": "code",
      "execution_count": 2,
      "metadata": {
        "colab": {
          "base_uri": "https://localhost:8080/"
        },
        "id": "z1fS9rtnf1O8",
        "outputId": "2fa6840b-a0fd-474e-d8bd-475e5f659cfe"
      },
      "outputs": [
        {
          "output_type": "stream",
          "name": "stdout",
          "text": [
            "Mounted at /content/drive\n"
          ]
        }
      ],
      "source": [
        "from google.colab import drive\n",
        "drive.mount('/content/drive')"
      ]
    },
    {
      "cell_type": "markdown",
      "metadata": {
        "id": "OdP5otIrpu2K"
      },
      "source": [
        "**Load image function to Load the images**"
      ]
    },
    {
      "cell_type": "code",
      "execution_count": 5,
      "metadata": {
        "id": "0WF6RwMkf_Y0"
      },
      "outputs": [],
      "source": [
        "import os\n",
        "import cv2\n",
        "import numpy as np\n",
        "cat_img = []\n",
        "dog_img = []\n",
        "panda_img = []\n",
        "basepath = '/content/drive/MyDrive/300 images'\n",
        "def load_images(folder, label):\n",
        "    images = []\n",
        "    labels = []\n",
        "    for filename in os.listdir(folder):\n",
        "        path = os.path.join(folder, filename)\n",
        "        img = cv2.imread(path)\n",
        "        if img is not None:\n",
        "            img = cv2.resize(img, (64, 64))\n",
        "            img = img.flatten()\n",
        "            images.append(img)\n",
        "            labels.append(label)\n",
        "    return images, labels"
      ]
    },
    {
      "cell_type": "markdown",
      "metadata": {
        "id": "0lwH6J84qTsT"
      },
      "source": [
        "**Convet to numpy array**"
      ]
    },
    {
      "cell_type": "code",
      "execution_count": 12,
      "metadata": {
        "id": "2D49ZChhgdA9"
      },
      "outputs": [],
      "source": [
        "basepath = '/content/drive/MyDrive/300 images'\n",
        "cat_img, cat_labels = load_images(os.path.join(basepath, 'cat'), 0)\n",
        "dog_img, dog_labels = load_images(os.path.join(basepath, 'dog'), 1)\n",
        "panda_img, panda_labels = load_images(os.path.join(basepath, 'panda'), 2)\n",
        "X = np.array(cat_img + dog_img + panda_img)\n",
        "y = np.array(cat_labels + dog_labels + panda_labels)"
      ]
    },
    {
      "cell_type": "markdown",
      "metadata": {
        "id": "fGqsITQpg2YN"
      },
      "source": [
        "**Suffling the images**"
      ]
    },
    {
      "cell_type": "code",
      "execution_count": 13,
      "metadata": {
        "id": "f593zS0ig4Xd"
      },
      "outputs": [],
      "source": [
        "indices = np.arange(len(X))\n",
        "np.random.shuffle(indices)\n",
        "\n",
        "X = X[indices]\n",
        "y = y[indices]\n"
      ]
    },
    {
      "cell_type": "markdown",
      "metadata": {
        "id": "CDATgJ-VCuqN"
      },
      "source": [
        "**Euclidean distence measurement  function to implement KNN**"
      ]
    },
    {
      "cell_type": "code",
      "execution_count": 8,
      "metadata": {
        "id": "M8wqBoMig6XW"
      },
      "outputs": [],
      "source": [
        "def euclidean_distance(a, b):\n",
        "    return np.sqrt(np.sum((a - b) ** 2))\n",
        "\n",
        "def predict(X_train, y_train, x_test, k):\n",
        "    distances = []\n",
        "    for i in range(len(X_train)):\n",
        "        dist = euclidean_distance(X_train[i], x_test)\n",
        "        distances.append((dist, y_train[i]))\n",
        "    distances.sort(key=lambda x: x[0])\n",
        "    k_labels = [label for _, label in distances[:k]]\n",
        "    return max(set(k_labels), key=k_labels.count)\n"
      ]
    },
    {
      "cell_type": "markdown",
      "metadata": {
        "id": "TmeCeC1AFIwL"
      },
      "source": [
        "**5 Fold Cross validation and KNN implementation**"
      ]
    },
    {
      "cell_type": "code",
      "execution_count": 14,
      "metadata": {
        "colab": {
          "base_uri": "https://localhost:8080/"
        },
        "id": "bJbZFnWMhAR8",
        "outputId": "e371defc-3829-4c68-e29a-15ee8e62244f"
      },
      "outputs": [
        {
          "output_type": "stream",
          "name": "stdout",
          "text": [
            "\n",
            "Fold 1:\n",
            "  Accuracy for k=1: 38.33%\n",
            "  Accuracy for k=2: 40.00%\n",
            "  Accuracy for k=3: 43.33%\n",
            "  Accuracy for k=4: 45.00%\n",
            "  Accuracy for k=5: 46.67%\n",
            "  Accuracy for k=6: 46.67%\n",
            "  Accuracy for k=7: 46.67%\n",
            "  Accuracy for k=8: 50.00%\n",
            "  Accuracy for k=9: 50.00%\n",
            "  Accuracy for k=10: 46.67%\n",
            "  Accuracy for k=11: 48.33%\n",
            "  Accuracy for k=12: 48.33%\n",
            "  Accuracy for k=13: 51.67%\n",
            "  Accuracy for k=14: 51.67%\n",
            "  Accuracy for k=15: 53.33%\n",
            "  Accuracy for k=16: 53.33%\n",
            "  Accuracy for k=17: 55.00%\n",
            "  Accuracy for k=18: 53.33%\n",
            "  Accuracy for k=19: 56.67%\n",
            "  Accuracy for k=20: 58.33%\n",
            "   Average Accuracy: 56.33%\n",
            "\n",
            "Fold 2:\n",
            "  Accuracy for k=1: 50.00%\n",
            "  Accuracy for k=2: 48.33%\n",
            "  Accuracy for k=3: 60.00%\n",
            "  Accuracy for k=4: 55.00%\n",
            "  Accuracy for k=5: 60.00%\n",
            "  Accuracy for k=6: 53.33%\n",
            "  Accuracy for k=7: 58.33%\n",
            "  Accuracy for k=8: 53.33%\n",
            "  Accuracy for k=9: 55.00%\n",
            "  Accuracy for k=10: 56.67%\n",
            "  Accuracy for k=11: 55.00%\n",
            "  Accuracy for k=12: 53.33%\n",
            "  Accuracy for k=13: 56.67%\n",
            "  Accuracy for k=14: 56.67%\n",
            "  Accuracy for k=15: 46.67%\n",
            "  Accuracy for k=16: 48.33%\n",
            "  Accuracy for k=17: 55.00%\n",
            "  Accuracy for k=18: 53.33%\n",
            "  Accuracy for k=19: 51.67%\n",
            "  Accuracy for k=20: 55.00%\n",
            "   Average Accuracy: 56.33%\n",
            "\n",
            "Fold 3:\n",
            "  Accuracy for k=1: 48.33%\n",
            "  Accuracy for k=2: 41.67%\n",
            "  Accuracy for k=3: 46.67%\n",
            "  Accuracy for k=4: 38.33%\n",
            "  Accuracy for k=5: 40.00%\n",
            "  Accuracy for k=6: 45.00%\n",
            "  Accuracy for k=7: 46.67%\n",
            "  Accuracy for k=8: 45.00%\n",
            "  Accuracy for k=9: 46.67%\n",
            "  Accuracy for k=10: 45.00%\n",
            "  Accuracy for k=11: 48.33%\n",
            "  Accuracy for k=12: 46.67%\n",
            "  Accuracy for k=13: 46.67%\n",
            "  Accuracy for k=14: 50.00%\n",
            "  Accuracy for k=15: 53.33%\n",
            "  Accuracy for k=16: 53.33%\n",
            "  Accuracy for k=17: 53.33%\n",
            "  Accuracy for k=18: 53.33%\n",
            "  Accuracy for k=19: 56.67%\n",
            "  Accuracy for k=20: 60.00%\n",
            "   Average Accuracy: 56.33%\n",
            "\n",
            "Fold 4:\n",
            "  Accuracy for k=1: 36.67%\n",
            "  Accuracy for k=2: 35.00%\n",
            "  Accuracy for k=3: 35.00%\n",
            "  Accuracy for k=4: 43.33%\n",
            "  Accuracy for k=5: 45.00%\n",
            "  Accuracy for k=6: 41.67%\n",
            "  Accuracy for k=7: 45.00%\n",
            "  Accuracy for k=8: 46.67%\n",
            "  Accuracy for k=9: 45.00%\n",
            "  Accuracy for k=10: 48.33%\n",
            "  Accuracy for k=11: 50.00%\n",
            "  Accuracy for k=12: 46.67%\n",
            "  Accuracy for k=13: 48.33%\n",
            "  Accuracy for k=14: 45.00%\n",
            "  Accuracy for k=15: 43.33%\n",
            "  Accuracy for k=16: 46.67%\n",
            "  Accuracy for k=17: 46.67%\n",
            "  Accuracy for k=18: 48.33%\n",
            "  Accuracy for k=19: 45.00%\n",
            "  Accuracy for k=20: 48.33%\n",
            "   Average Accuracy: 56.33%\n",
            "\n",
            "Fold 5:\n",
            "  Accuracy for k=1: 35.00%\n",
            "  Accuracy for k=2: 40.00%\n",
            "  Accuracy for k=3: 48.33%\n",
            "  Accuracy for k=4: 50.00%\n",
            "  Accuracy for k=5: 53.33%\n",
            "  Accuracy for k=6: 60.00%\n",
            "  Accuracy for k=7: 61.67%\n",
            "  Accuracy for k=8: 58.33%\n",
            "  Accuracy for k=9: 55.00%\n",
            "  Accuracy for k=10: 58.33%\n",
            "  Accuracy for k=11: 60.00%\n",
            "  Accuracy for k=12: 58.33%\n",
            "  Accuracy for k=13: 60.00%\n",
            "  Accuracy for k=14: 58.33%\n",
            "  Accuracy for k=15: 55.00%\n",
            "  Accuracy for k=16: 58.33%\n",
            "  Accuracy for k=17: 58.33%\n",
            "  Accuracy for k=18: 60.00%\n",
            "  Accuracy for k=19: 60.00%\n",
            "  Accuracy for k=20: 60.00%\n",
            "   Average Accuracy: 56.33%\n"
          ]
        }
      ],
      "source": [
        "import matplotlib.pyplot as plt\n",
        "import random\n",
        "\n",
        "def create_folds(X, y, num_folds=5):\n",
        "    data = list(zip(X, y))\n",
        "    random.shuffle(data)\n",
        "    fold_size = len(data) // num_folds\n",
        "    folds = []\n",
        "    for i in range(num_folds):\n",
        "        start = i * fold_size\n",
        "        end = (i+1)*fold_size if i < num_folds - 1 else len(data)\n",
        "        fold = data[start:end]\n",
        "        X_fold, y_fold = zip(*fold)\n",
        "        folds.append((np.array(X_fold), np.array(y_fold)))\n",
        "    return folds\n",
        "\n",
        "k_values = list(range(1, 21))  # k=1 to 20\n",
        "folds = create_folds(X, y, num_folds=5)\n",
        "\n",
        "# store fold-wise accuracy\n",
        "fold_accuracies = [[] for _ in range(5)]\n",
        "average_accuracies = []\n",
        "\n",
        "for k in k_values:\n",
        "    fold_acc = []\n",
        "    for i in range(5):\n",
        "        X_valid, y_valid = folds[i]\n",
        "        X_train = np.concatenate([folds[j][0] for j in range(5) if j != i])\n",
        "        y_train = np.concatenate([folds[j][1] for j in range(5) if j != i])\n",
        "\n",
        "        correct = 0\n",
        "        for idx in range(len(X_valid)):\n",
        "            pred = predict(X_train, y_train, X_valid[idx], k)\n",
        "            if pred == y_valid[idx]:\n",
        "                correct += 1\n",
        "        acc = correct / len(X_valid)\n",
        "        fold_accuracies[i].append(acc)\n",
        "        fold_acc.append(acc)\n",
        "\n",
        "    avg_acc = np.mean(fold_acc)\n",
        "    average_accuracies.append(avg_acc)\n",
        "# for idx, k in enumerate(k_values):\n",
        "#     print(f\"\\n  K = {k}\")\n",
        "#     for fold in range(5):\n",
        "#         print(f\"  Fold {fold+1} Accuracy: {fold_accuracies[fold][idx]*100:.2f}%\")\n",
        "#     print(f\"   Average Accuracy: {average_accuracies[idx]*100:.2f}%\")\n",
        "for fold_num in range(5):\n",
        "    print(f\"\\nFold {fold_num + 1}:\")\n",
        "    for idx, k in enumerate(k_values):\n",
        "        acc = fold_accuracies[fold_num][idx] * 100\n",
        "        print(f\"  Accuracy for k={k}: {acc:.2f}%\")\n",
        "    print(f\"   Average Accuracy: {average_accuracies[idx]*100:.2f}%\")\n"
      ]
    },
    {
      "cell_type": "markdown",
      "metadata": {
        "id": "8K0Tio0nIeCb"
      },
      "source": [
        "**Figure for Centroid Accuracy**"
      ]
    },
    {
      "cell_type": "code",
      "execution_count": 15,
      "metadata": {
        "colab": {
          "base_uri": "https://localhost:8080/",
          "height": 564
        },
        "id": "XxNQgTzjhUEN",
        "outputId": "ef7b00e1-3aec-4b1e-cdb1-57fd8119e8f6"
      },
      "outputs": [
        {
          "output_type": "display_data",
          "data": {
            "text/plain": [
              "<Figure size 1200x600 with 1 Axes>"
            ],
            "image/png": "[encoded data removed]"
          },
          "metadata": {}
        }
      ],
      "source": [
        "colors = ['red', 'blue', 'green', 'orange', 'purple']\n",
        "plt.figure(figsize=(12, 6))\n",
        "\n",
        "# Plot individual fold points\n",
        "for i in range(5):\n",
        "    plt.plot(k_values, [a*100 for a in fold_accuracies[i]],\n",
        "             linestyle='', marker='o', label=f'Fold {i+1}', color=colors[i])\n",
        "\n",
        "# Plot average line\n",
        "plt.plot(k_values, [a*100 for a in average_accuracies],\n",
        "         linestyle='-', marker='s', color='black', label='Average')\n",
        "\n",
        "plt.title(\"K vs Accuracy with 5-Fold Cross-Validation\")\n",
        "plt.xlabel(\"K (Number of Neighbors)\")\n",
        "plt.ylabel(\"Accuracy (%)\")\n",
        "plt.grid(True)\n",
        "plt.legend()\n",
        "plt.xticks(k_values)\n",
        "plt.show()\n"
      ]
    }
  ],
  "metadata": {
    "colab": {
      "provenance": []
    },
    "kernelspec": {
      "display_name": "base",
      "language": "python",
      "name": "python3"
    },
    "language_info": {
      "codemirror_mode": {
        "name": "ipython",
        "version": 3
      },
      "file_extension": ".py",
      "mimetype": "text/x-python",
      "name": "python",
      "nbconvert_exporter": "python",
      "pygments_lexer": "ipython3",
      "version": "3.12.7"
    }
  },
  "nbformat": 4,
  "nbformat_minor": 0
}